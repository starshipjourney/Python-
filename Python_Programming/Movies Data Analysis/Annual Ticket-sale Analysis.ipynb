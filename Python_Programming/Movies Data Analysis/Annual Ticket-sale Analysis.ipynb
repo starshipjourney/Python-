{
 "cells": [
  {
   "cell_type": "code",
   "execution_count": null,
   "id": "e63fe073",
   "metadata": {},
   "outputs": [],
   "source": [
    "# Install a pip package in the current Jupyter kernel\n",
    "import sys\n",
    "!{sys.executable} -m pip install numpy\n",
    "!{sys.executable} -m pip install matplotlib\n",
    "!{sys.executable} -m pip install seaborn\n",
    "!{sys.executable} -m pip install pandas"
   ]
  },
  {
   "cell_type": "code",
   "execution_count": 126,
   "id": "70c1ec27",
   "metadata": {},
   "outputs": [],
   "source": [
    "import numpy as np\n",
    "import pandas as pd\n",
    "import matplotlib.pyplot as plt\n",
    "import seaborn as sns\n",
    "import os"
   ]
  },
  {
   "cell_type": "markdown",
   "id": "c26f8ccc",
   "metadata": {},
   "source": [
    "# The Data given represents annual sales on Hollywood movie industry and their equivalent prices as per inflation in 2021."
   ]
  },
  {
   "cell_type": "code",
   "execution_count": 127,
   "id": "ac58ef7b",
   "metadata": {},
   "outputs": [],
   "source": [
    "p = os.getcwd()\n",
    "path = os.path.join(p, \"Dataset\", \"AnnualTicketSales.csv\") # Path is set so that file could be read in all OS without issue"
   ]
  },
  {
   "cell_type": "code",
   "execution_count": 128,
   "id": "54bff4a5",
   "metadata": {},
   "outputs": [],
   "source": [
    "df = pd.read_csv(path)"
   ]
  },
  {
   "cell_type": "code",
   "execution_count": 129,
   "id": "89b5f302",
   "metadata": {},
   "outputs": [
    {
     "data": {
      "text/html": [
       "<div>\n",
       "<style scoped>\n",
       "    .dataframe tbody tr th:only-of-type {\n",
       "        vertical-align: middle;\n",
       "    }\n",
       "\n",
       "    .dataframe tbody tr th {\n",
       "        vertical-align: top;\n",
       "    }\n",
       "\n",
       "    .dataframe thead th {\n",
       "        text-align: right;\n",
       "    }\n",
       "</style>\n",
       "<table border=\"1\" class=\"dataframe\">\n",
       "  <thead>\n",
       "    <tr style=\"text-align: right;\">\n",
       "      <th></th>\n",
       "      <th>YEAR</th>\n",
       "      <th>TICKETS SOLD</th>\n",
       "      <th>TOTAL BOX OFFICE</th>\n",
       "      <th>TOTAL INFLATION ADJUSTED BOX OFFICE</th>\n",
       "      <th>AVERAGE TICKET PRICE</th>\n",
       "      <th>AVERAGE TICKET PRICE INFLATION ADJUSTED</th>\n",
       "    </tr>\n",
       "  </thead>\n",
       "  <tbody>\n",
       "    <tr>\n",
       "      <th>0</th>\n",
       "      <td>2021</td>\n",
       "      <td>42,37,74,881</td>\n",
       "      <td>$3,881,777,912</td>\n",
       "      <td>$3,881,777,912.00</td>\n",
       "      <td>$9.16</td>\n",
       "      <td>$9.16</td>\n",
       "    </tr>\n",
       "    <tr>\n",
       "      <th>1</th>\n",
       "      <td>2020</td>\n",
       "      <td>22,36,38,958</td>\n",
       "      <td>$2,048,534,616</td>\n",
       "      <td>$2,206,766,899.44</td>\n",
       "      <td>$9.16</td>\n",
       "      <td>$9.87</td>\n",
       "    </tr>\n",
       "    <tr>\n",
       "      <th>2</th>\n",
       "      <td>2019</td>\n",
       "      <td>1,22,85,41,629</td>\n",
       "      <td>$11,253,443,955</td>\n",
       "      <td>$12,272,234,601.60</td>\n",
       "      <td>$9.16</td>\n",
       "      <td>$9.99</td>\n",
       "    </tr>\n",
       "    <tr>\n",
       "      <th>3</th>\n",
       "      <td>2018</td>\n",
       "      <td>1,31,15,36,128</td>\n",
       "      <td>$11,948,096,650</td>\n",
       "      <td>$13,265,871,689.01</td>\n",
       "      <td>$9.11</td>\n",
       "      <td>$10.11</td>\n",
       "    </tr>\n",
       "    <tr>\n",
       "      <th>4</th>\n",
       "      <td>2017</td>\n",
       "      <td>1,22,56,39,761</td>\n",
       "      <td>$10,993,991,460</td>\n",
       "      <td>$12,504,678,553.49</td>\n",
       "      <td>$8.97</td>\n",
       "      <td>$10.20</td>\n",
       "    </tr>\n",
       "  </tbody>\n",
       "</table>\n",
       "</div>"
      ],
      "text/plain": [
       "   YEAR    TICKETS SOLD TOTAL BOX OFFICE TOTAL INFLATION ADJUSTED BOX OFFICE  \\\n",
       "0  2021    42,37,74,881   $3,881,777,912                   $3,881,777,912.00   \n",
       "1  2020    22,36,38,958   $2,048,534,616                   $2,206,766,899.44   \n",
       "2  2019  1,22,85,41,629  $11,253,443,955                  $12,272,234,601.60   \n",
       "3  2018  1,31,15,36,128  $11,948,096,650                  $13,265,871,689.01   \n",
       "4  2017  1,22,56,39,761  $10,993,991,460                  $12,504,678,553.49   \n",
       "\n",
       "  AVERAGE TICKET PRICE AVERAGE TICKET PRICE INFLATION ADJUSTED  \n",
       "0                $9.16                                   $9.16  \n",
       "1                $9.16                                   $9.87  \n",
       "2                $9.16                                   $9.99  \n",
       "3                $9.11                                  $10.11  \n",
       "4                $8.97                                  $10.20  "
      ]
     },
     "execution_count": 129,
     "metadata": {},
     "output_type": "execute_result"
    }
   ],
   "source": [
    "df.head() # Example of our data"
   ]
  },
  {
   "cell_type": "code",
   "execution_count": 130,
   "id": "d646f791",
   "metadata": {},
   "outputs": [
    {
     "name": "stdout",
     "output_type": "stream",
     "text": [
      "<class 'pandas.core.frame.DataFrame'>\n",
      "RangeIndex: 27 entries, 0 to 26\n",
      "Data columns (total 6 columns):\n",
      " #   Column                                   Non-Null Count  Dtype \n",
      "---  ------                                   --------------  ----- \n",
      " 0   YEAR                                     27 non-null     int64 \n",
      " 1   TICKETS SOLD                             27 non-null     object\n",
      " 2   TOTAL BOX OFFICE                         27 non-null     object\n",
      " 3   TOTAL INFLATION ADJUSTED BOX OFFICE      27 non-null     object\n",
      " 4   AVERAGE TICKET PRICE                     27 non-null     object\n",
      " 5   AVERAGE TICKET PRICE INFLATION ADJUSTED  27 non-null     object\n",
      "dtypes: int64(1), object(5)\n",
      "memory usage: 1.4+ KB\n"
     ]
    }
   ],
   "source": [
    "df.info()"
   ]
  },
  {
   "cell_type": "markdown",
   "id": "3f11b6db",
   "metadata": {},
   "source": [
    "\n",
    "  "
   ]
  },
  {
   "cell_type": "markdown",
   "id": "1ca6a54c",
   "metadata": {},
   "source": [
    "Convert Data to Numerics for quick processing  [RUN ONCE]"
   ]
  },
  {
   "cell_type": "code",
   "execution_count": 131,
   "id": "f53399df",
   "metadata": {},
   "outputs": [
    {
     "name": "stderr",
     "output_type": "stream",
     "text": [
      "C:\\Users\\ACER\\AppData\\Local\\Temp\\ipykernel_10420\\1908423967.py:5: FutureWarning: The default value of regex will change from True to False in a future version.\n",
      "  df[i] = df[i].str.replace(\"[,$]\",'').astype(float) #remove symbols and convert values to float\n"
     ]
    }
   ],
   "source": [
    "pd.set_option('display.float_format', lambda x: '%.2f' % x) #set option to display float nummber without Exponentials\n",
    "\n",
    "for i in df:\n",
    "    if i != 'YEAR':\n",
    "        df[i] = df[i].str.replace(\"[,$]\",'').astype(float) #remove symbols and convert values to float"
   ]
  },
  {
   "cell_type": "code",
   "execution_count": 169,
   "id": "3914a33e",
   "metadata": {},
   "outputs": [
    {
     "data": {
      "text/html": [
       "<div>\n",
       "<style scoped>\n",
       "    .dataframe tbody tr th:only-of-type {\n",
       "        vertical-align: middle;\n",
       "    }\n",
       "\n",
       "    .dataframe tbody tr th {\n",
       "        vertical-align: top;\n",
       "    }\n",
       "\n",
       "    .dataframe thead th {\n",
       "        text-align: right;\n",
       "    }\n",
       "</style>\n",
       "<table border=\"1\" class=\"dataframe\">\n",
       "  <thead>\n",
       "    <tr style=\"text-align: right;\">\n",
       "      <th></th>\n",
       "      <th>YEAR</th>\n",
       "      <th>TICKETS SOLD</th>\n",
       "      <th>TOTAL BOX OFFICE</th>\n",
       "      <th>TOTAL INFLATION ADJUSTED BOX OFFICE</th>\n",
       "      <th>AVERAGE TICKET PRICE</th>\n",
       "      <th>AVERAGE TICKET PRICE INFLATION ADJUSTED</th>\n",
       "    </tr>\n",
       "  </thead>\n",
       "  <tbody>\n",
       "    <tr>\n",
       "      <th>0</th>\n",
       "      <td>2021</td>\n",
       "      <td>423774881.00</td>\n",
       "      <td>3881777912.00</td>\n",
       "      <td>3881777912.00</td>\n",
       "      <td>9.16</td>\n",
       "      <td>9.16</td>\n",
       "    </tr>\n",
       "    <tr>\n",
       "      <th>1</th>\n",
       "      <td>2020</td>\n",
       "      <td>223638958.00</td>\n",
       "      <td>2048534616.00</td>\n",
       "      <td>2206766899.44</td>\n",
       "      <td>9.16</td>\n",
       "      <td>9.87</td>\n",
       "    </tr>\n",
       "    <tr>\n",
       "      <th>2</th>\n",
       "      <td>2019</td>\n",
       "      <td>1228541629.00</td>\n",
       "      <td>11253443955.00</td>\n",
       "      <td>12272234601.60</td>\n",
       "      <td>9.16</td>\n",
       "      <td>9.99</td>\n",
       "    </tr>\n",
       "    <tr>\n",
       "      <th>3</th>\n",
       "      <td>2018</td>\n",
       "      <td>1311536128.00</td>\n",
       "      <td>11948096650.00</td>\n",
       "      <td>13265871689.01</td>\n",
       "      <td>9.11</td>\n",
       "      <td>10.11</td>\n",
       "    </tr>\n",
       "    <tr>\n",
       "      <th>4</th>\n",
       "      <td>2017</td>\n",
       "      <td>1225639761.00</td>\n",
       "      <td>10993991460.00</td>\n",
       "      <td>12504678553.49</td>\n",
       "      <td>8.97</td>\n",
       "      <td>10.20</td>\n",
       "    </tr>\n",
       "  </tbody>\n",
       "</table>\n",
       "</div>"
      ],
      "text/plain": [
       "   YEAR  TICKETS SOLD  TOTAL BOX OFFICE  TOTAL INFLATION ADJUSTED BOX OFFICE  \\\n",
       "0  2021  423774881.00     3881777912.00                        3881777912.00   \n",
       "1  2020  223638958.00     2048534616.00                        2206766899.44   \n",
       "2  2019 1228541629.00    11253443955.00                       12272234601.60   \n",
       "3  2018 1311536128.00    11948096650.00                       13265871689.01   \n",
       "4  2017 1225639761.00    10993991460.00                       12504678553.49   \n",
       "\n",
       "   AVERAGE TICKET PRICE  AVERAGE TICKET PRICE INFLATION ADJUSTED  \n",
       "0                  9.16                                     9.16  \n",
       "1                  9.16                                     9.87  \n",
       "2                  9.16                                     9.99  \n",
       "3                  9.11                                    10.11  \n",
       "4                  8.97                                    10.20  "
      ]
     },
     "execution_count": 169,
     "metadata": {},
     "output_type": "execute_result"
    }
   ],
   "source": [
    "df.head()"
   ]
  },
  {
   "cell_type": "markdown",
   "id": "9496004a",
   "metadata": {},
   "source": [
    "# BASIC QUESTIONS"
   ]
  },
  {
   "cell_type": "markdown",
   "id": "06454585",
   "metadata": {},
   "source": [
    "Which year sold the most amount of tickets?"
   ]
  },
  {
   "cell_type": "code",
   "execution_count": 179,
   "id": "00affd0e",
   "metadata": {},
   "outputs": [
    {
     "name": "stdout",
     "output_type": "stream",
     "text": [
      "YEAR :  2002\n",
      "TICKETS SOLD :  1575756527\n",
      "NET WORTH ON BOX OFFICE :  14188289904.59\n"
     ]
    }
   ],
   "source": [
    "print(\"YEAR : \",df.iloc[df['TICKETS SOLD'].idxmax()]['YEAR'].astype(int)) #get the year\n",
    "print(\"TICKETS SOLD : \",df['TICKETS SOLD'].max().astype(int)) #get tickets sold that year\n",
    "print(\"NET WORTH ON BOX OFFICE : \",df.iloc[df['TICKETS SOLD'].idxmax()]['TOTAL INFLATION ADJUSTED BOX OFFICE'])"
   ]
  },
  {
   "cell_type": "markdown",
   "id": "523e91af",
   "metadata": {},
   "source": [
    "What is the inflation percentage in 2002? "
   ]
  },
  {
   "cell_type": "code",
   "execution_count": 307,
   "id": "af10618a",
   "metadata": {},
   "outputs": [
    {
     "name": "stdout",
     "output_type": "stream",
     "text": [
      "Enter YEAR 2002\n",
      "Inflation percentage of 2002 :  [55.] %\n"
     ]
    }
   ],
   "source": [
    "#this code snippet allowes to directly check inflation of any given year \n",
    "\n",
    "inflation_year = int(input(\"Enter YEAR \"))\n",
    "\n",
    "later_cpi = df[df['YEAR']==inflation_year]['TOTAL INFLATION ADJUSTED BOX OFFICE']\n",
    "earlier_cpi = df[df['YEAR']==inflation_year]['TOTAL BOX OFFICE'] \n",
    "result = ((later_cpi - earlier_cpi)/earlier_cpi)*100 #equation to find inflation rate\n",
    "\n",
    "print(f\"Inflation percentage of {inflation_year} : \", np.round(result.values),\"%\") "
   ]
  },
  {
   "cell_type": "markdown",
   "id": "0eb68997",
   "metadata": {},
   "source": [
    "Has 2017 ticket prices effected its Sales?\n",
    "\n",
    "      #compare Sales with previous year and next year\n",
    "      #compare with lowest priced ticket year sales and 2017 sales\n"
   ]
  },
  {
   "cell_type": "code",
   "execution_count": 303,
   "id": "7ae5d502",
   "metadata": {},
   "outputs": [
    {
     "name": "stdout",
     "output_type": "stream",
     "text": [
      "Enter YEAR 1996\n",
      "2017 Sales was Better than 1996 \n",
      "\n",
      "2017 : 12504678553.49 \n",
      "1996 : 10251311227.37 \n",
      " difference : 2253367326 Higher sales\n"
     ]
    }
   ],
   "source": [
    "#this code snippet allowes to directly compare 2017 with any other year \n",
    "#(can be used to quickly check diffrence or embedded into an interactive component)\n",
    "\n",
    "comparing_year = int(input(\"Enter YEAR \"))\n",
    "\n",
    "year_2017_sales = df.loc[df['YEAR']==2017, 'TOTAL INFLATION ADJUSTED BOX OFFICE'].iloc[0]\n",
    "other_year_sales = df.loc[df['YEAR']==comparing_year, 'TOTAL INFLATION ADJUSTED BOX OFFICE'].iloc[0]\n",
    "\n",
    "if year_2017_sales > other_year_sales:\n",
    "    print(f\"2017 Sales was Better than {comparing_year} \\n\")\n",
    "    print(f\"2017 : {year_2017_sales} \\n{comparing_year} : {other_year_sales} \\n difference : {int(year_2017_sales-other_year_sales)} Higher sales\")\n",
    "else:\n",
    "    print(f\"2017 Sales was not as good as {comparing_year} \\n\")\n",
    "    print(f\"2017 : {year_2017_sales} \\n{comparing_year} : {other_year_sales} \\n difference : {int(other_year_sales-year_2017_sales)} Lower sales\")"
   ]
  },
  {
   "cell_type": "code",
   "execution_count": 306,
   "id": "e2ac9516",
   "metadata": {},
   "outputs": [
    {
     "name": "stdout",
     "output_type": "stream",
     "text": [
      "Sales :  10251311227.37\n",
      "YEAR :  1996.0\n"
     ]
    }
   ],
   "source": [
    "cheapest_ticket_sales = df.loc[df['AVERAGE TICKET PRICE INFLATION ADJUSTED'].idxmin()].iloc[3]\n",
    "cheapest_ticket_year = df.loc[df['AVERAGE TICKET PRICE INFLATION ADJUSTED'].idxmin()].iloc[0]\n",
    "\n",
    "print(\"Sales : \",cheapest_ticket_sales)\n",
    "print(\"YEAR : \",cheapest_ticket_year)\n",
    "\n",
    "#COPY PASTE YEAR (from result of this code) WHILE RUNNING ABOVE SNIPET TO SEE DIFFRENCE COMPARED TO 2017"
   ]
  },
  {
   "cell_type": "markdown",
   "id": "9929b246",
   "metadata": {},
   "source": [
    "# VISUALISATION QUESTIONS"
   ]
  },
  {
   "cell_type": "markdown",
   "id": "d02b6a0a",
   "metadata": {},
   "source": [
    "How does Sales look per YEAR?"
   ]
  },
  {
   "cell_type": "code",
   "execution_count": 423,
   "id": "9a09a7b9",
   "metadata": {},
   "outputs": [
    {
     "data": {
      "text/plain": [
       "Text(0.5, 1.0, 'SALES DURING COVID 19')"
      ]
     },
     "execution_count": 423,
     "metadata": {},
     "output_type": "execute_result"
    },
    {
     "data": {
      "image/png": "[encoded data removed]",
      "text/plain": [
       "<Figure size 432x288 with 2 Axes>"
      ]
     },
     "metadata": {
      "needs_background": "light"
     },
     "output_type": "display_data"
    }
   ],
   "source": [
    "plot_data = df.loc[df['YEAR']>=2019] #data used for small plot inside\n",
    "\n",
    "#BASIC PLOTTING USING matplotlib\n",
    "\n",
    "fig = plt.figure()\n",
    "ax1 = fig.add_axes([0,0,2,1])\n",
    "ax2 = fig.add_axes([1.25,0.2,0.50,0.30])\n",
    "\n",
    "ax1.plot(df['YEAR'],df['TOTAL INFLATION ADJUSTED BOX OFFICE'])\n",
    "ax1.legend([\"SALES\"],loc=(0.9,0.8),fontsize=12)\n",
    "ax1.set_ylabel('TOTAL BOX OFFICE')\n",
    "ax1.set_xlabel('YEAR')\n",
    "ax1.set_xticks(df['YEAR'][::2])\n",
    "ax1.set_title('SALES PER YEAR (1995-2021)')\n",
    "\n",
    "ax2.plot(plot_data['YEAR'],plot_data['TOTAL INFLATION ADJUSTED BOX OFFICE'])\n",
    "ax2.set_xlim(2019,2021,0.5)\n",
    "ax2.set_xlabel('YEAR')\n",
    "ax2.set_ylabel('TOTAL BOX OFFICE')\n",
    "ax2.set_title('SALES DURING COVID 19')"
   ]
  },
  {
   "cell_type": "markdown",
   "id": "963ebb15",
   "metadata": {},
   "source": [
    "Observation :\n",
    "* The movie industry sales has improved from 1995 \n",
    "* We can find that sales dropped drastically in 2020 and then tends to be slowly improving in 2021 (This is due to the covid pandemic in 2020). "
   ]
  },
  {
   "cell_type": "markdown",
   "id": "0581e15f",
   "metadata": {},
   "source": [
    "Is There a relationship between tickets sold and Ticket price?"
   ]
  },
  {
   "cell_type": "code",
   "execution_count": 442,
   "id": "0d8cdb59",
   "metadata": {},
   "outputs": [
    {
     "data": {
      "text/plain": [
       "<AxesSubplot:title={'center':'Tickets sold to Ticket price comparison'}, xlabel='TICKETS SOLD', ylabel='TICKET PRICE'>"
      ]
     },
     "execution_count": 442,
     "metadata": {},
     "output_type": "execute_result"
    },
    {
     "data": {
      "image/png": "[encoded data removed]",
      "text/plain": [
       "<Figure size 576x432 with 1 Axes>"
      ]
     },
     "metadata": {
      "needs_background": "light"
     },
     "output_type": "display_data"
    }
   ],
   "source": [
    "plt.figure(figsize=(8,6))\n",
    "plt.title(\"Tickets sold to Ticket price comparison\")\n",
    "plt.ylabel(\"TICKET PRICE\")\n",
    "sns.scatterplot(x=\"TICKETS SOLD\",y=\"AVERAGE TICKET PRICE INFLATION ADJUSTED\",data=df)"
   ]
  },
  {
   "cell_type": "markdown",
   "id": "f94cd2bc",
   "metadata": {},
   "source": [
    "Observation :\n",
    "\n",
    "* The 2 Outliers found in the plot is from 2020 and 2021 having the least amount of tickets sold due to covid pandemic.\n",
    "* Number of Tickets sold are generally between 1.2 and 1.5 billion.\n",
    "* The most tickets are sold in price range between 8.5 and 9.5 dollars and does show potential of selling more tickets at this price.\n",
    "* There only few years when tickets have been sold for less than 8.5 dollars and sold decent amount of tickets. However all of them mostly belong in the 90's era when box office sales was only picking up as we saw earlier."
   ]
  },
  {
   "cell_type": "code",
   "execution_count": null,
   "id": "ece3ed9f",
   "metadata": {},
   "outputs": [],
   "source": []
  }
 ],
 "metadata": {
  "kernelspec": {
   "display_name": "Python 3 (ipykernel)",
   "language": "python",
   "name": "python3"
  },
  "language_info": {
   "codemirror_mode": {
    "name": "ipython",
    "version": 3
   },
   "file_extension": ".py",
   "mimetype": "text/x-python",
   "name": "python",
   "nbconvert_exporter": "python",
   "pygments_lexer": "ipython3",
   "version": "3.10.2"
  }
 },
 "nbformat": 4,
 "nbformat_minor": 5
}
